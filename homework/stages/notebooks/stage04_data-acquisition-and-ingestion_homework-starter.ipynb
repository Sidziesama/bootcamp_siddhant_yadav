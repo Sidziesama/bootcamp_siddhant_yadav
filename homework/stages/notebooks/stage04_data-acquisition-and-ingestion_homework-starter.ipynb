{
 "cells": [
  {
   "cell_type": "markdown",
   "metadata": {},
   "source": [
    "# Homework Starter — Stage 04: Data Acquisition and Ingestion\n",
    "Name: Siddhant Yadav\n",
    "\n",
    "Date: 08/18/25\n",
    "\n",
    "## Objectives\n",
    "- API ingestion with secrets in `.env`\n",
    "- Scrape a permitted public table\n",
    "- Validate and save raw data to `data/raw/`"
   ]
  },
  {
   "cell_type": "code",
   "execution_count": 14,
   "id": "b86fdd2f",
   "metadata": {},
   "outputs": [],
   "source": [
    "# !pip install yfinance"
   ]
  },
  {
   "cell_type": "code",
   "execution_count": 15,
   "metadata": {},
   "outputs": [
    {
     "name": "stdout",
     "output_type": "stream",
     "text": [
      "KAGGLE_API_KEY loaded? True\n"
     ]
    }
   ],
   "source": [
    "import os, pathlib, datetime as dt\n",
    "import requests\n",
    "import pandas as pd\n",
    "from bs4 import BeautifulSoup\n",
    "from dotenv import load_dotenv\n",
    "\n",
    "\n",
    "RAW = pathlib.Path(r'..\\data\\raw'); RAW.mkdir(parents=True, exist_ok=True)\n",
    "load_dotenv()\n",
    "\n",
    "print('KAGGLE_API_KEY loaded?', bool(os.getenv('kaggle_key')))"
   ]
  },
  {
   "cell_type": "markdown",
   "metadata": {},
   "source": [
    "## Helpers (use or modify)"
   ]
  },
  {
   "cell_type": "code",
   "execution_count": 16,
   "metadata": {},
   "outputs": [],
   "source": [
    "def ts():\n",
    "    return dt.datetime.now().strftime('%Y%m%d-%H%M%S')\n",
    "\n",
    "def save_csv(df: pd.DataFrame, prefix: str, **meta):\n",
    "    mid = '_'.join([f\"{k}-{v}\" for k,v in meta.items()])\n",
    "    path = RAW / f\"{prefix}_{mid}_{ts()}.csv\"\n",
    "    df.to_csv(path, index=False)\n",
    "    print('Saved', path)\n",
    "    return path\n",
    "\n",
    "def validate(df: pd.DataFrame, required):\n",
    "    missing = [c for c in required if c not in df.columns]\n",
    "    return {'missing': missing, 'shape': df.shape, 'na_total': int(df.isna().sum().sum())}"
   ]
  },
  {
   "cell_type": "markdown",
   "metadata": {},
   "source": [
    "## Part 1 — API Pull (Required)\n",
    "Choose an endpoint (e.g., Alpha Vantage or use `yfinance` fallback)."
   ]
  },
  {
   "cell_type": "code",
   "execution_count": 23,
   "id": "86d84936",
   "metadata": {},
   "outputs": [],
   "source": [
    "# !kaggle datasets download -d yasserh/housing-prices-dataset"
   ]
  },
  {
   "cell_type": "code",
   "execution_count": 22,
   "metadata": {},
   "outputs": [
    {
     "name": "stdout",
     "output_type": "stream",
     "text": [
      "['Housing.csv', 'summary.csv']\n"
     ]
    }
   ],
   "source": [
    "import zipfile\n",
    "import os\n",
    "\n",
    "\n",
    "SYMBOL = 'AAPL'\n",
    "USE_KAGGLE = bool(os.getenv('kaggle_key'))\n",
    "if USE_KAGGLE:\n",
    "    zip_file_path = r\"D:\\codebases\\bootcamp_siddhant_yadav\\homework\\stages\\data\\raw\\housing-prices-dataset.zip\"\n",
    "    extracted_path = r'D:\\codebases\\bootcamp_siddhant_yadav\\homework\\stages\\data\\processed' \n",
    "\n",
    "    with zipfile.ZipFile(zip_file_path, 'r') as zip_ref:\n",
    "        zip_ref.extractall(extracted_path)\n",
    "\n",
    "    print(os.listdir(extracted_path)) # Verify extracted files\n",
    "else:\n",
    "    print(\"Use yfinance\")"
   ]
  },
  {
   "cell_type": "markdown",
   "metadata": {},
   "source": [
    "## Part 2 — Scrape a Public Table (Required)\n",
    "Replace `SCRAPE_URL` with a permitted page containing a simple table."
   ]
  },
  {
   "cell_type": "code",
   "execution_count": 24,
   "id": "41145c27",
   "metadata": {},
   "outputs": [
    {
     "name": "stderr",
     "output_type": "stream",
     "text": [
      "C:\\Users\\Siddhant\\AppData\\Local\\Temp\\ipykernel_11944\\2441852155.py:5: FutureWarning: YF.download() has changed argument auto_adjust default to True\n",
      "  data = yf.download(\"AAPL\", start=\"2020-01-01\", end=\"2021-01-01\")\n",
      "[*********************100%***********************]  1 of 1 completed"
     ]
    },
    {
     "name": "stdout",
     "output_type": "stream",
     "text": [
      "Price           Close       High        Low       Open     Volume\n",
      "Ticker           AAPL       AAPL       AAPL       AAPL       AAPL\n",
      "Date                                                             \n",
      "2020-01-02  72.538521  72.598899  71.292311  71.545897  135480400\n",
      "2020-01-03  71.833305  72.594071  71.608700  71.765682  146322800\n",
      "2020-01-06  72.405663  72.444306  70.702997  70.954173  118387200\n",
      "2020-01-07  72.065155  72.671348  71.845377  72.415345  108872000\n",
      "2020-01-08  73.224411  73.526303  71.768086  71.768086  132079200\n"
     ]
    },
    {
     "name": "stderr",
     "output_type": "stream",
     "text": [
      "\n"
     ]
    }
   ],
   "source": [
    "# Scrapping a public table using yfinance \n",
    "\n",
    "import yfinance as yf\n",
    "\n",
    "data = yf.download(\"AAPL\", start=\"2020-01-01\", end=\"2021-01-01\")\n",
    "print(data.head())"
   ]
  },
  {
   "cell_type": "code",
   "execution_count": 25,
   "metadata": {},
   "outputs": [],
   "source": [
    "# SCRAPE_URL = 'https://example.com/markets-table'  # TODO: replace with permitted page\n",
    "# headers = {'User-Agent':'AFE-Homework/1.0'}\n",
    "\n",
    "# try:\n",
    "#     resp = requests.get(SCRAPE_URL, headers=headers, timeout=30); resp.raise_for_status()\n",
    "#     soup = BeautifulSoup(resp.text, 'html.parser')\n",
    "#     rows = [[c.get_text(strip=True) for c in tr.find_all(['th','td'])] for tr in soup.find_all('tr')]\n",
    "#     header, *data = [r for r in rows if r]\n",
    "#     df_scrape = pd.DataFrame(data, columns=header)\n",
    "# except Exception as e:\n",
    "#     print('Scrape failed, using inline demo table:', e)\n",
    "#     html = '<table><tr><th>Ticker</th><th>Price</th></tr><tr><td>AAA</td><td>101.2</td></tr></table>'\n",
    "#     soup = BeautifulSoup(html, 'html.parser')\n",
    "#     rows = [[c.get_text(strip=True) for c in tr.find_all(['th','td'])] for tr in soup.find_all('tr')]\n",
    "#     header, *data = [r for r in rows if r]\n",
    "#     df_scrape = pd.DataFrame(data, columns=header)\n",
    "\n",
    "# if 'Price' in df_scrape.columns:\n",
    "#     df_scrape['Price'] = pd.to_numeric(df_scrape['Price'], errors='coerce')\n",
    "# v_scrape = validate(df_scrape, list(df_scrape.columns)); v_scrape"
   ]
  },
  {
   "cell_type": "code",
   "execution_count": 26,
   "metadata": {},
   "outputs": [],
   "source": [
    "# _ = save_csv(df_scrape, prefix='scrape', site='example', table='markets')"
   ]
  },
  {
   "cell_type": "markdown",
   "id": "e6fa0ce4",
   "metadata": {},
   "source": [
    "## Documentation\n",
    "- API Source: KAGGLE\n",
    "- Scrape Source: yfinance\n",
    "- .env is not commited. Only a .env.example is pushed to the repo with dummy values as instructed."
   ]
  },
  {
   "cell_type": "markdown",
   "id": "924def77",
   "metadata": {},
   "source": []
  }
 ],
 "metadata": {
  "kernelspec": {
   "display_name": "base",
   "language": "python",
   "name": "python3"
  },
  "language_info": {
   "codemirror_mode": {
    "name": "ipython",
    "version": 3
   },
   "file_extension": ".py",
   "mimetype": "text/x-python",
   "name": "python",
   "nbconvert_exporter": "python",
   "pygments_lexer": "ipython3",
   "version": "3.13.5"
  }
 },
 "nbformat": 4,
 "nbformat_minor": 5
}

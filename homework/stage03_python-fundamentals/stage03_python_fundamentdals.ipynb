{
 "cells": [
  {
   "cell_type": "markdown",
   "id": "edc2929e",
   "metadata": {},
   "source": [
    "### Numpy Operation with Loop vs Vectorization"
   ]
  },
  {
   "cell_type": "code",
   "execution_count": 2,
   "id": "3899c202",
   "metadata": {},
   "outputs": [],
   "source": [
    "import pandas as pd \n",
    "import numpy as np\n"
   ]
  },
  {
   "cell_type": "code",
   "execution_count": 3,
   "id": "a673988d",
   "metadata": {},
   "outputs": [
    {
     "name": "stdout",
     "output_type": "stream",
     "text": [
      "Array: [3 4 5 6 7]\n",
      "Mean: 5.0\n"
     ]
    }
   ],
   "source": [
    "arr = np.array((3,4,5,6,7))\n",
    "\n",
    "print(f\"Array: {arr}\")\n",
    "print(f\"Mean: {np.mean(arr)}\")"
   ]
  },
  {
   "cell_type": "code",
   "execution_count": 4,
   "id": "2063f7f8",
   "metadata": {},
   "outputs": [
    {
     "name": "stdout",
     "output_type": "stream",
     "text": [
      "[ 5  6  7 12 14]\n"
     ]
    }
   ],
   "source": [
    "def my_func(x):\n",
    "    if x > 5:\n",
    "        return x * 2\n",
    "    else:\n",
    "        return x + 2\n",
    "\n",
    "operation = np.vectorize(my_func)\n",
    "\n",
    "print(operation(arr))\n"
   ]
  },
  {
   "cell_type": "code",
   "execution_count": 5,
   "id": "ed86b954",
   "metadata": {},
   "outputs": [
    {
     "name": "stdout",
     "output_type": "stream",
     "text": [
      "Time taken with loop: 0.1790 seconds\n"
     ]
    }
   ],
   "source": [
    "import time\n",
    "\n",
    "size = 10**6\n",
    "list1 = list(range(size))\n",
    "list2 = list(range(size))\n",
    "result_list = [0] * size\n",
    "\n",
    "start_time = time.time()\n",
    "for i in range(size):\n",
    "    result_list[i] = list1[i] + list2[i]\n",
    "end_time = time.time()\n",
    "print(f\"Time taken with loop: {end_time - start_time:.4f} seconds\")"
   ]
  },
  {
   "cell_type": "code",
   "execution_count": 6,
   "id": "054826f4",
   "metadata": {},
   "outputs": [
    {
     "name": "stdout",
     "output_type": "stream",
     "text": [
      "Time taken with vectorization: 0.0074 seconds\n"
     ]
    }
   ],
   "source": [
    "import numpy as np\n",
    "import time\n",
    "\n",
    "size = 10**6\n",
    "arr1 = np.arange(size)\n",
    "arr2 = np.arange(size)\n",
    "\n",
    "start_time = time.time()\n",
    "result_array = arr1 + arr2\n",
    "end_time = time.time()\n",
    "print(f\"Time taken with vectorization: {end_time - start_time:.4f} seconds\")"
   ]
  },
  {
   "cell_type": "markdown",
   "id": "0d7905a1",
   "metadata": {},
   "source": [
    "### DF Operations with Pandas\n"
   ]
  },
  {
   "cell_type": "code",
   "execution_count": 10,
   "id": "50bf8923",
   "metadata": {},
   "outputs": [],
   "source": [
    "dir_path = r\"D:\\codebases\\bootcamp_siddhant_yadav\\homework\\data\\raw\\starter_data.csv\"\n",
    "df = pd.read_csv(dir_path)"
   ]
  },
  {
   "cell_type": "code",
   "execution_count": 11,
   "id": "7b94b3a5",
   "metadata": {},
   "outputs": [
    {
     "name": "stdout",
     "output_type": "stream",
     "text": [
      "<class 'pandas.core.frame.DataFrame'>\n",
      "RangeIndex: 10 entries, 0 to 9\n",
      "Data columns (total 3 columns):\n",
      " #   Column    Non-Null Count  Dtype \n",
      "---  ------    --------------  ----- \n",
      " 0   category  10 non-null     object\n",
      " 1   value     10 non-null     int64 \n",
      " 2   date      10 non-null     object\n",
      "dtypes: int64(1), object(2)\n",
      "memory usage: 372.0+ bytes\n"
     ]
    },
    {
     "data": {
      "text/plain": [
       "(  category  value        date\n",
       " 0        A     10  2025-08-01\n",
       " 1        B     15  2025-08-02\n",
       " 2        A     12  2025-08-03\n",
       " 3        B     18  2025-08-04\n",
       " 4        C     25  2025-08-05,\n",
       " None)"
      ]
     },
     "execution_count": 11,
     "metadata": {},
     "output_type": "execute_result"
    }
   ],
   "source": [
    "df.head(), df.info()"
   ]
  },
  {
   "cell_type": "code",
   "execution_count": 12,
   "id": "e7770e23",
   "metadata": {},
   "outputs": [
    {
     "data": {
      "text/plain": [
       "<bound method NDFrame.describe of 0    10\n",
       "1    15\n",
       "2    12\n",
       "3    18\n",
       "4    25\n",
       "5    30\n",
       "6    11\n",
       "7    14\n",
       "8    28\n",
       "9    13\n",
       "Name: value, dtype: int64>"
      ]
     },
     "execution_count": 12,
     "metadata": {},
     "output_type": "execute_result"
    }
   ],
   "source": [
    "df.value.describe"
   ]
  },
  {
   "cell_type": "code",
   "execution_count": 13,
   "id": "89ffd5fd",
   "metadata": {},
   "outputs": [
    {
     "name": "stdout",
     "output_type": "stream",
     "text": [
      "category\n",
      "A    46\n",
      "B    47\n",
      "C    83\n",
      "Name: value, dtype: int64\n"
     ]
    }
   ],
   "source": [
    "group = df.groupby('category')['value'].sum()\n",
    "print(group)\n"
   ]
  },
  {
   "cell_type": "code",
   "execution_count": 14,
   "id": "bf73bc9c",
   "metadata": {},
   "outputs": [],
   "source": [
    "import matplotlib.pyplot as plt\n",
    "\n"
   ]
  },
  {
   "cell_type": "code",
   "execution_count": 15,
   "id": "b73e5abd",
   "metadata": {},
   "outputs": [
    {
     "data": {
      "image/png": "[encoded data removed]",
      "text/plain": [
       "<Figure size 1000x600 with 1 Axes>"
      ]
     },
     "metadata": {},
     "output_type": "display_data"
    }
   ],
   "source": [
    "df.plot(figsize=(10, 6))\n",
    "plt.title('Line Plot of DataFrame Columns')\n",
    "plt.xlabel('date')\n",
    "plt.ylabel('value')\n",
    "plt.grid(True)\n",
    "plt.show()"
   ]
  },
  {
   "cell_type": "code",
   "execution_count": 16,
   "id": "6b7866be",
   "metadata": {},
   "outputs": [],
   "source": [
    "summary_stats = df.describe()"
   ]
  },
  {
   "cell_type": "code",
   "execution_count": 17,
   "id": "62bbb243",
   "metadata": {},
   "outputs": [
    {
     "data": {
      "text/html": [
       "<div>\n",
       "<style scoped>\n",
       "    .dataframe tbody tr th:only-of-type {\n",
       "        vertical-align: middle;\n",
       "    }\n",
       "\n",
       "    .dataframe tbody tr th {\n",
       "        vertical-align: top;\n",
       "    }\n",
       "\n",
       "    .dataframe thead th {\n",
       "        text-align: right;\n",
       "    }\n",
       "</style>\n",
       "<table border=\"1\" class=\"dataframe\">\n",
       "  <thead>\n",
       "    <tr style=\"text-align: right;\">\n",
       "      <th></th>\n",
       "      <th>value</th>\n",
       "    </tr>\n",
       "  </thead>\n",
       "  <tbody>\n",
       "    <tr>\n",
       "      <th>count</th>\n",
       "      <td>10.000000</td>\n",
       "    </tr>\n",
       "    <tr>\n",
       "      <th>mean</th>\n",
       "      <td>17.600000</td>\n",
       "    </tr>\n",
       "    <tr>\n",
       "      <th>std</th>\n",
       "      <td>7.381659</td>\n",
       "    </tr>\n",
       "    <tr>\n",
       "      <th>min</th>\n",
       "      <td>10.000000</td>\n",
       "    </tr>\n",
       "    <tr>\n",
       "      <th>25%</th>\n",
       "      <td>12.250000</td>\n",
       "    </tr>\n",
       "    <tr>\n",
       "      <th>50%</th>\n",
       "      <td>14.500000</td>\n",
       "    </tr>\n",
       "    <tr>\n",
       "      <th>75%</th>\n",
       "      <td>23.250000</td>\n",
       "    </tr>\n",
       "    <tr>\n",
       "      <th>max</th>\n",
       "      <td>30.000000</td>\n",
       "    </tr>\n",
       "  </tbody>\n",
       "</table>\n",
       "</div>"
      ],
      "text/plain": [
       "           value\n",
       "count  10.000000\n",
       "mean   17.600000\n",
       "std     7.381659\n",
       "min    10.000000\n",
       "25%    12.250000\n",
       "50%    14.500000\n",
       "75%    23.250000\n",
       "max    30.000000"
      ]
     },
     "execution_count": 17,
     "metadata": {},
     "output_type": "execute_result"
    }
   ],
   "source": [
    "summary_stats"
   ]
  },
  {
   "cell_type": "code",
   "execution_count": null,
   "id": "a1192194",
   "metadata": {},
   "outputs": [
    {
     "name": "stdout",
     "output_type": "stream",
     "text": [
      "Summary statistics saved to data/processed/summary.csv\n"
     ]
    }
   ],
   "source": [
    "import os\n",
    "\n",
    "os.makedirs(r'D:\\codebases\\bootcamp_siddhant_yadav\\homework\\data\\processed', exist_ok=True)\n",
    "\n",
    "# Save to CSV\n",
    "summary_stats.to_csv(r'D:\\codebases\\bootcamp_siddhant_yadav\\homework\\homework2\\data\\processed\\summary.csv')\n",
    "\n",
    "print(\"Summary statistics saved to data/processed/summary.csv\")"
   ]
  },
  {
   "cell_type": "code",
   "execution_count": 19,
   "id": "8910e88d",
   "metadata": {},
   "outputs": [],
   "source": [
    "import sys\n",
    "import os\n",
    "\n",
    "# Add the repo root to sys.path\n",
    "repo_root = os.path.abspath(os.path.join(os.getcwd(), \"..\"))\n",
    "if repo_root not in sys.path:\n",
    "    sys.path.append(repo_root)\n",
    "\n"
   ]
  },
  {
   "cell_type": "code",
   "execution_count": 20,
   "id": "9dca35c9",
   "metadata": {},
   "outputs": [
    {
     "data": {
      "text/plain": [
       "category\n",
       "A    46\n",
       "B    47\n",
       "C    83\n",
       "Name: value, dtype: int64"
      ]
     },
     "execution_count": 20,
     "metadata": {},
     "output_type": "execute_result"
    }
   ],
   "source": [
    "from src.utils import grouping\n",
    "\n",
    "grouping(df)"
   ]
  },
  {
   "cell_type": "code",
   "execution_count": null,
   "id": "325a0ee4",
   "metadata": {},
   "outputs": [],
   "source": []
  }
 ],
 "metadata": {
  "kernelspec": {
   "display_name": "base",
   "language": "python",
   "name": "python3"
  },
  "language_info": {
   "codemirror_mode": {
    "name": "ipython",
    "version": 3
   },
   "file_extension": ".py",
   "mimetype": "text/x-python",
   "name": "python",
   "nbconvert_exporter": "python",
   "pygments_lexer": "ipython3",
   "version": "3.13.5"
  }
 },
 "nbformat": 4,
 "nbformat_minor": 5
}
